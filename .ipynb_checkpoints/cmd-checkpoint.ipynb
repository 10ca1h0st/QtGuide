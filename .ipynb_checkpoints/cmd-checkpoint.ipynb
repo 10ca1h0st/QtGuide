{
 "cells": [
  {
   "cell_type": "code",
   "execution_count": 1,
   "metadata": {},
   "outputs": [],
   "source": [
    "import json\n",
    "name='飞机.json'\n",
    "f = open(name,encoding='utf-8')\n",
    "content = f.read()\n",
    "content = json.loads(content)"
   ]
  },
  {
   "cell_type": "code",
   "execution_count": 2,
   "metadata": {},
   "outputs": [
    {
     "data": {
      "text/plain": [
       "{'data': [{'型号': '型号1',\n",
       "   '飞行距离': '1000km',\n",
       "   '飞行高度': '1000km',\n",
       "   '飞行时间': '1hour',\n",
       "   '载人数': '2',\n",
       "   '制造国家': 'cn',\n",
       "   '价格': '$100000000',\n",
       "   '使用年限': '5',\n",
       "   '飞行最大速度': '500km/h',\n",
       "   '承载最大数量': '100kg'},\n",
       "  {'型号': '型号2',\n",
       "   '飞行距离': '2000km',\n",
       "   '飞行高度': '3000km',\n",
       "   '飞行时间': '1hour',\n",
       "   '载人数': '2',\n",
       "   '制造国家': 'cn',\n",
       "   '价格': '$100300000',\n",
       "   '使用年限': '5',\n",
       "   '飞行最大速度': '520km/h',\n",
       "   '承载最大数量': '100kg'},\n",
       "  {'型号': '型号3',\n",
       "   '飞行距离': '3000km',\n",
       "   '飞行高度': '1000km',\n",
       "   '飞行时间': '1hour',\n",
       "   '载人数': '2',\n",
       "   '制造国家': 'cn',\n",
       "   '价格': '$10003000',\n",
       "   '使用年限': '5',\n",
       "   '飞行最大速度': '500km/h',\n",
       "   '承载最大数量': '100kg'},\n",
       "  {'型号': '型号4',\n",
       "   '飞行距离': '4000km',\n",
       "   '飞行高度': '1000km',\n",
       "   '飞行时间': '1hour',\n",
       "   '载人数': '2',\n",
       "   '制造国家': 'cn',\n",
       "   '价格': '$100000400',\n",
       "   '使用年限': '5',\n",
       "   '飞行最大速度': '500km/h',\n",
       "   '承载最大数量': '100kg'}]}"
      ]
     },
     "execution_count": 2,
     "metadata": {},
     "output_type": "execute_result"
    }
   ],
   "source": [
    "content"
   ]
  },
  {
   "cell_type": "code",
   "execution_count": 3,
   "metadata": {},
   "outputs": [],
   "source": [
    "content=content['data']"
   ]
  },
  {
   "cell_type": "code",
   "execution_count": 4,
   "metadata": {},
   "outputs": [
    {
     "data": {
      "text/plain": [
       "[{'型号': '型号1',\n",
       "  '飞行距离': '1000km',\n",
       "  '飞行高度': '1000km',\n",
       "  '飞行时间': '1hour',\n",
       "  '载人数': '2',\n",
       "  '制造国家': 'cn',\n",
       "  '价格': '$100000000',\n",
       "  '使用年限': '5',\n",
       "  '飞行最大速度': '500km/h',\n",
       "  '承载最大数量': '100kg'},\n",
       " {'型号': '型号2',\n",
       "  '飞行距离': '2000km',\n",
       "  '飞行高度': '3000km',\n",
       "  '飞行时间': '1hour',\n",
       "  '载人数': '2',\n",
       "  '制造国家': 'cn',\n",
       "  '价格': '$100300000',\n",
       "  '使用年限': '5',\n",
       "  '飞行最大速度': '520km/h',\n",
       "  '承载最大数量': '100kg'},\n",
       " {'型号': '型号3',\n",
       "  '飞行距离': '3000km',\n",
       "  '飞行高度': '1000km',\n",
       "  '飞行时间': '1hour',\n",
       "  '载人数': '2',\n",
       "  '制造国家': 'cn',\n",
       "  '价格': '$10003000',\n",
       "  '使用年限': '5',\n",
       "  '飞行最大速度': '500km/h',\n",
       "  '承载最大数量': '100kg'},\n",
       " {'型号': '型号4',\n",
       "  '飞行距离': '4000km',\n",
       "  '飞行高度': '1000km',\n",
       "  '飞行时间': '1hour',\n",
       "  '载人数': '2',\n",
       "  '制造国家': 'cn',\n",
       "  '价格': '$100000400',\n",
       "  '使用年限': '5',\n",
       "  '飞行最大速度': '500km/h',\n",
       "  '承载最大数量': '100kg'}]"
      ]
     },
     "execution_count": 4,
     "metadata": {},
     "output_type": "execute_result"
    }
   ],
   "source": [
    "content"
   ]
  },
  {
   "cell_type": "code",
   "execution_count": 5,
   "metadata": {},
   "outputs": [
    {
     "data": {
      "text/plain": [
       "10"
      ]
     },
     "execution_count": 5,
     "metadata": {},
     "output_type": "execute_result"
    }
   ],
   "source": [
    "len(content[0].keys())"
   ]
  },
  {
   "cell_type": "code",
   "execution_count": 6,
   "metadata": {},
   "outputs": [
    {
     "data": {
      "text/plain": [
       "{'型号': '型号1',\n",
       " '飞行距离': '1000km',\n",
       " '飞行高度': '1000km',\n",
       " '飞行时间': '1hour',\n",
       " '载人数': '2',\n",
       " '制造国家': 'cn',\n",
       " '价格': '$100000000',\n",
       " '使用年限': '5',\n",
       " '飞行最大速度': '500km/h',\n",
       " '承载最大数量': '100kg'}"
      ]
     },
     "execution_count": 6,
     "metadata": {},
     "output_type": "execute_result"
    }
   ],
   "source": [
    "content[0]"
   ]
  },
  {
   "cell_type": "code",
   "execution_count": null,
   "metadata": {},
   "outputs": [],
   "source": []
  }
 ],
 "metadata": {
  "kernelspec": {
   "display_name": "Python 3",
   "language": "python",
   "name": "python3"
  },
  "language_info": {
   "codemirror_mode": {
    "name": "ipython",
    "version": 3
   },
   "file_extension": ".py",
   "mimetype": "text/x-python",
   "name": "python",
   "nbconvert_exporter": "python",
   "pygments_lexer": "ipython3",
   "version": "3.7.2"
  }
 },
 "nbformat": 4,
 "nbformat_minor": 2
}
